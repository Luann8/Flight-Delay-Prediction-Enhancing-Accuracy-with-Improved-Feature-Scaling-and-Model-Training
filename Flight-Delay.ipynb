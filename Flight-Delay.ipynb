{
 "cells": [
  {
   "cell_type": "code",
   "execution_count": 28,
   "metadata": {},
   "outputs": [],
   "source": [
    "from sklearn.preprocessing import PolynomialFeatures, StandardScaler\n",
    "from sklearn.pipeline import make_pipeline\n",
    "from sklearn.linear_model import LinearRegression\n",
    "from sklearn.metrics import mean_absolute_error\n",
    "\n",
    "def measure_performance(y_real, y_pred, model_name):\n",
    "    mae = mean_absolute_error(y_real, y_pred)\n",
    "    print(f'The Mean Absolute Error (MAE) for the {model_name} is: {mae}')\n",
    "\n",
    "def get_flight_data():\n",
    "    flight_hours = float(input(\"Enter the flight hours: \"))\n",
    "    distance_input = input(\"Enter the flight distance (in km): \")\n",
    "    distance = float(''.join(c for c in distance_input if c.isdigit() or c == '.'))\n",
    "    passengers = float(input(\"Enter the number of passengers: \"))\n",
    "    strike = float(input(\"Is there a strike by employees? (1 for Yes, 0 for No): \"))\n",
    "    adverse_weather = float(input(\"Are there adverse weather conditions? (1 for Yes, 0 for No): \"))\n",
    "    plane_size = float(input(\"Enter the plane size (in meters): \"))\n",
    "    plane_weight = float(input(\"Enter the plane weight (in tons): \"))\n",
    "    return [flight_hours, distance, passengers, strike, adverse_weather, plane_size, plane_weight]\n",
    "\n",
    "user_data = get_flight_data()\n",
    "\n",
    "X_train = [\n",
    "    [2.5, 3000, 150, 0, 0, 30, 150],\n",
    "    [1.8, 2500, 120, 1, 0, 25, 120],\n",
    "    [3.0, 3500, 180, 0, 1, 35, 180],\n",
    "    [2.2, 2700, 135, 1, 1, 27, 135],\n",
    "    [2.8, 3200, 165, 0, 1, 32, 165],\n",
    "    [3.4, 3700, 195, 1, 1, 37, 195],\n",
    "]\n",
    "\n",
    "y_train = [30, 40, 35, 45, 38, 50]\n",
    "\n",
    "scaler = StandardScaler()\n",
    "X_train_normalized = scaler.fit_transform(X_train)\n",
    "\n",
    "linear_model = LinearRegression()\n",
    "linear_model.fit(X_train_normalized, y_train)\n",
    "\n",
    "user_data_normalized = scaler.transform([user_data])\n",
    "linear_prediction = linear_model.predict(user_data_normalized)\n",
    "linear_prediction_rounded = round(linear_prediction[0], 2)\n",
    "print(f'The delay prediction (linear model) for the provided data is: {linear_prediction_rounded} hours')\n",
    "\n",
    "polynomial_model = make_pipeline(PolynomialFeatures(degree=2), StandardScaler(), LinearRegression())\n",
    "polynomial_model.fit(X_train_normalized, y_train)\n",
    "\n",
    "user_data_normalized = scaler.transform([user_data])\n",
    "polynomial_prediction = polynomial_model.predict(user_data_normalized)\n",
    "polynomial_prediction_rounded = round(polynomial_prediction[0], 2)\n",
    "print(f'The delay prediction (polynomial model) for the provided data is: {polynomial_prediction_rounded} hours')\n",
    "\n",
    "measure_performance([30], [linear_prediction_rounded], \"Linear Model\")\n",
    "measure_performance([30], [polynomial_prediction_rounded], \"Polynomial Model\")\n"
   ]
  },
  {
   "cell_type": "markdown",
   "metadata": {},
   "source": []
  }
 ],
 "metadata": {
  "kernelspec": {
   "display_name": "Python 3",
   "language": "python",
   "name": "python3"
  },
  "language_info": {
   "codemirror_mode": {
    "name": "ipython",
    "version": 3
   },
   "file_extension": ".py",
   "mimetype": "text/x-python",
   "name": "python",
   "nbconvert_exporter": "python",
   "pygments_lexer": "ipython3",
   "version": "3.11.5"
  }
 },
 "nbformat": 4,
 "nbformat_minor": 2
}
